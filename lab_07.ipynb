{
 "cells": [
  {
   "cell_type": "code",
   "execution_count": 12,
   "metadata": {
    "collapsed": false
   },
   "outputs": [
    {
     "name": "stdout",
     "output_type": "stream",
     "text": [
      "Extracting MNIST_data/train-images-idx3-ubyte.gz\n",
      "Extracting MNIST_data/train-labels-idx1-ubyte.gz\n",
      "Extracting MNIST_data/t10k-images-idx3-ubyte.gz\n",
      "Extracting MNIST_data/t10k-labels-idx1-ubyte.gz\n",
      "Training starts\n",
      "Epoch: 0001 cost= 0.521184075\n",
      "Epoch: 0002 cost= 0.352351137\n",
      "Epoch: 0003 cost= 0.324164331\n",
      "Epoch: 0004 cost= 0.309212195\n",
      "Epoch: 0005 cost= 0.299869517\n",
      "Epoch: 0006 cost= 0.292925310\n",
      "Epoch: 0007 cost= 0.287789562\n",
      "Epoch: 0008 cost= 0.283409157\n",
      "Epoch: 0009 cost= 0.280002365\n",
      "Epoch: 0010 cost= 0.277144828\n",
      "Epoch: 0011 cost= 0.274330971\n",
      "Epoch: 0012 cost= 0.272425007\n",
      "Epoch: 0013 cost= 0.270239704\n",
      "Epoch: 0014 cost= 0.268700442\n",
      "Epoch: 0015 cost= 0.266740431\n",
      "Optimization Finished!\n",
      "Label:  [3]\n",
      "Prediction:  [3]\n"
     ]
    },
    {
     "data": {
      "image/png": "[encoded data removed]",
      "text/plain": [
       "<matplotlib.figure.Figure at 0x7fa59179ab50>"
      ]
     },
     "metadata": {},
     "output_type": "display_data"
    },
    {
     "name": "stdout",
     "output_type": "stream",
     "text": [
      "Accuracy:  0.923\n"
     ]
    }
   ],
   "source": [
    "from random import randint\n",
    "from tensorflow.examples.tutorials.mnist import input_data\n",
    "import tensorflow as tf\n",
    "import matplotlib.pyplot as plt\n",
    "\n",
    "mnist = input_data.read_data_sets(\"MNIST_data/\", one_hot=True)\n",
    "\n",
    " # MNIST data input (img shape: 28*28)\n",
    "n_input = 784\n",
    "\n",
    "# MNIST total classes (0-9 digits)\n",
    "n_classes = 10\n",
    "\n",
    "\n",
    "# Parameters\n",
    "training_epochs = 15\n",
    "batch_size = 100\n",
    "display_step = 1\n",
    "#learning_rate = 10\n",
    "learning_rate = 0.1\n",
    "#learning_rate = 0.01\n",
    "#learning_rate = 0.001\n",
    "\n",
    "\n",
    "X = tf.placeholder(\"float\", [None, n_input])\n",
    "Y = tf.placeholder(\"float\", [None, n_classes])\n",
    "\n",
    "W = tf.Variable(tf.zeros([n_input, n_classes]))\n",
    "b = tf.Variable(tf.zeros([n_classes]))\n",
    "\n",
    "activation = tf.nn.softmax( tf.matmul(X, W) + b )\n",
    "cost = tf.reduce_mean( -tf.reduce_sum(Y * tf.log(activation), reduction_indices=1) )\n",
    "optimizer = tf.train.GradientDescentOptimizer(learning_rate).minimize(cost)\n",
    "\n",
    "init = tf.global_variables_initializer()\n",
    "\n",
    "print \"Training starts\"\n",
    "\n",
    "with tf.Session() as sess:\n",
    "    sess.run(init)\n",
    "    \n",
    "    # Training cycle\n",
    "    for epoch in range(training_epochs):\n",
    "        avg_cost = 0.\n",
    "        total_batch = int(mnist.train.num_examples/batch_size)\n",
    "        \n",
    "        # Loop over all batches\n",
    "        for i in range(total_batch):\n",
    "            batch_x, batch_y = mnist.train.next_batch(batch_size)\n",
    "        \n",
    "            # Run optimization op (backprop) and cost op (to get loss value)\n",
    "            sess.run(optimizer, feed_dict={X: batch_x, Y: batch_y})\n",
    "        \n",
    "            # Compute average loss\n",
    "            avg_cost += sess.run(cost, feed_dict={X: batch_x, Y: batch_y}) / total_batch\n",
    "        \n",
    "        # Display logs per epoch step\n",
    "        if epoch % display_step == 0:\n",
    "            print \"Epoch:\", '%04d' % (epoch+1), \"cost=\", \"{:.9f}\".format(avg_cost)\n",
    "            \n",
    "    print \"Optimization Finished!\"\n",
    "    \n",
    "    r = randint(0, mnist.test.num_examples -1)\n",
    "    print \"Label: \", sess.run( tf.argmax(mnist.test.labels[r:r+1], 1) )\n",
    "    print \"Prediction: \", sess.run( tf.argmax(activation, 1), feed_dict={X: mnist.test.images[r:r+1]} )\n",
    "    \n",
    "    plt.imshow( mnist.test.images[r:r+1].reshape(28,28), cmap='Greys', interpolation='nearest' )\n",
    "    plt.show()\n",
    "    \n",
    "    # test model\n",
    "    correct_prediction = tf.equal(tf.argmax(activation, 1), tf.argmax(Y, 1))\n",
    "    \n",
    "    # calculate accuracy\n",
    "    accuracy = tf.reduce_mean( tf.cast(correct_prediction, 'float') )\n",
    "    print \"Accuracy: \", accuracy.eval({X: mnist.test.images, Y: mnist.test.labels})"
   ]
  },
  {
   "cell_type": "code",
   "execution_count": null,
   "metadata": {
    "collapsed": true
   },
   "outputs": [],
   "source": []
  }
 ],
 "metadata": {
  "kernelspec": {
   "display_name": "Python 2",
   "language": "python",
   "name": "python2"
  },
  "language_info": {
   "codemirror_mode": {
    "name": "ipython",
    "version": 2
   },
   "file_extension": ".py",
   "mimetype": "text/x-python",
   "name": "python",
   "nbconvert_exporter": "python",
   "pygments_lexer": "ipython2",
   "version": "2.7.12"
  }
 },
 "nbformat": 4,
 "nbformat_minor": 2
}
