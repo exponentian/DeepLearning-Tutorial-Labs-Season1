{
 "cells": [
  {
   "cell_type": "markdown",
   "metadata": {},
   "source": [
    "## neural network training with relu for MNIST"
   ]
  },
  {
   "cell_type": "code",
   "execution_count": 2,
   "metadata": {
    "collapsed": false
   },
   "outputs": [
    {
     "name": "stdout",
     "output_type": "stream",
     "text": [
      "Extracting MNIST_data/train-images-idx3-ubyte.gz\n",
      "Extracting MNIST_data/train-labels-idx1-ubyte.gz\n",
      "Extracting MNIST_data/t10k-images-idx3-ubyte.gz\n",
      "Extracting MNIST_data/t10k-labels-idx1-ubyte.gz\n"
     ]
    }
   ],
   "source": [
    "from tensorflow.examples.tutorials.mnist import input_data\n",
    "import tensorflow as tf\n",
    "import numpy as np\n",
    "\n",
    "mnist = input_data.read_data_sets(\"MNIST_data/\", one_hot=True)\n",
    "\n",
    "# Parameters\n",
    "training_epochs = 15\n",
    "batch_size = 100\n",
    "display_step = 1\n",
    "#learning_rate = 10\n",
    "#learning_rate = 0.1\n",
    "#learning_rate = 0.01\n",
    "learning_rate = 0.001\n",
    "\n",
    "\n",
    "# MNIST data input (img shape: 28*28)\n",
    "n_input = 784\n",
    "\n",
    "# MNIST total classes (0-9 digits)\n",
    "n_classes = 10\n",
    "\n",
    "X = tf.placeholder(\"float\", [None, n_input])\n",
    "Y = tf.placeholder(\"float\", [None, n_classes] )"
   ]
  },
  {
   "cell_type": "code",
   "execution_count": 3,
   "metadata": {
    "collapsed": false
   },
   "outputs": [
    {
     "name": "stdout",
     "output_type": "stream",
     "text": [
      "Training starts\n",
      "Epoch: 0001 cost= 224.389873910\n",
      "Epoch: 0002 cost= 43.531463122\n",
      "Epoch: 0003 cost= 27.328811730\n",
      "Epoch: 0004 cost= 19.104866968\n",
      "Epoch: 0005 cost= 13.628129606\n",
      "Epoch: 0006 cost= 10.096757122\n",
      "Epoch: 0007 cost= 7.541504701\n",
      "Epoch: 0008 cost= 5.535305208\n",
      "Epoch: 0009 cost= 3.948767251\n",
      "Epoch: 0010 cost= 2.931504011\n",
      "Epoch: 0011 cost= 2.241774844\n",
      "Epoch: 0012 cost= 1.617383243\n",
      "Epoch: 0013 cost= 1.192351140\n",
      "Epoch: 0014 cost= 0.843807246\n",
      "Epoch: 0015 cost= 0.654182307\n",
      "Optimization finished.\n",
      "Accuracy: 0.9422\n"
     ]
    }
   ],
   "source": [
    "W1 = tf.Variable(tf.random_normal([n_input, 256]))\n",
    "W2 = tf.Variable(tf.random_normal([256, 256]))\n",
    "W3 = tf.Variable(tf.random_normal([256, n_classes]))\n",
    "\n",
    "b1 = tf.Variable(tf.random_normal([256]))\n",
    "b2 = tf.Variable(tf.random_normal([256]))\n",
    "b3 = tf.Variable(tf.random_normal([n_classes]))\n",
    "\n",
    "\n",
    "L1 = tf.nn.relu( tf.add(tf.matmul(X, W1), b1) )\n",
    "L2 = tf.nn.relu( tf.add(tf.matmul(L1, W2), b2) )\n",
    "hypothesis = tf.add( tf.matmul(L2, W3), b3 )\n",
    "\n",
    "# softmax_cross_entropy_with_logits\n",
    "cost = tf.reduce_mean(tf.nn.softmax_cross_entropy_with_logits(hypothesis,Y))\n",
    "\n",
    "# Adam optimizer\n",
    "optimizer = tf.train.AdamOptimizer(learning_rate=learning_rate).minimize(cost)\n",
    "\n",
    "init = tf.global_variables_initializer()\n",
    "\n",
    "print \"Training starts\"\n",
    "\n",
    "with tf.Session() as sess:\n",
    "    sess.run(init)\n",
    "    \n",
    "    # Training cycle\n",
    "    for epoch in range(training_epochs):\n",
    "        avg_cost = 0.0\n",
    "        total_batch = int(mnist.train.num_examples/batch_size)\n",
    "        \n",
    "        # Loop over all branches\n",
    "        for i in range(total_batch):\n",
    "            batch_xs, batch_ys = mnist.train.next_batch(batch_size)\n",
    "            sess.run( optimizer, feed_dict={X: batch_xs, Y: batch_ys} )\n",
    "            avg_cost += sess.run( cost, feed_dict={X: batch_xs, Y: batch_ys} ) / total_batch\n",
    "            \n",
    "        if epoch % display_step == 0:\n",
    "            print \"Epoch:\", '%04d'%(epoch+1), \"cost=\",\"{:.9f}\".format(avg_cost)\n",
    "    \n",
    "    print \"Optimization finished.\"\n",
    "    \n",
    "    # Test model.\n",
    "    correct_prediction = tf.equal(tf.argmax(hypothesis,1), tf.argmax(Y,1))\n",
    "    \n",
    "    # Calculate accuracy\n",
    "    accuracy = tf.reduce_mean( tf.cast(correct_prediction,\"float\") )\n",
    "    print \"Accuracy:\", accuracy.eval({X: mnist.test.images, Y: mnist.test.labels })"
   ]
  },
  {
   "cell_type": "markdown",
   "metadata": {},
   "source": [
    "## neural network training with relu and xavier initializer for MNIST"
   ]
  },
  {
   "cell_type": "code",
   "execution_count": 6,
   "metadata": {
    "collapsed": true
   },
   "outputs": [],
   "source": [
    "import math\n",
    "\n",
    "def xavier_init(n_inputs, n_outputs, uniform=True):\n",
    "    \"\"\"Set the parameter initialization using the method described.\n",
    "    This method is designed to keep the scale of the gradients roughly the same\n",
    "    in all layers.\n",
    "    Xavier Glorot and Yoshua Bengio (2010):\n",
    "        Understanding the difficulty of training deep feedforward neural\n",
    "        networks. International conference on artificial intelligence and\n",
    "        statistics.\n",
    "    Args:\n",
    "        n_inputs: The number of input nodes into each output.\n",
    "        n_outputs: The number of output nodes for each input.\n",
    "        uniform: If true use a uniform distribution, otherwise use a normal.\n",
    "    Returns:\n",
    "        An initializer.\"\"\"\n",
    "    if uniform:\n",
    "        # 6 was used in the paper.\n",
    "        init_range = math.sqrt(6.0 / (n_inputs + n_outputs))\n",
    "        return tf.random_uniform_initializer(-init_range, init_range)\n",
    "    else:\n",
    "        # 3 gives us approximately the same limits as above since this repicks\n",
    "        # values greater than 2 standard deviations from the mean.\n",
    "        stddev = math.sqrt(3.0 / (n_inputs + n_outputs))\n",
    "        return tf.truncated_normal_initializer(stddev=stddev)"
   ]
  },
  {
   "cell_type": "code",
   "execution_count": 7,
   "metadata": {
    "collapsed": false
   },
   "outputs": [
    {
     "name": "stdout",
     "output_type": "stream",
     "text": [
      "Training starts\n",
      "Epoch: 0001 cost= 0.281054726\n",
      "Epoch: 0002 cost= 0.099756627\n",
      "Epoch: 0003 cost= 0.063108709\n",
      "Epoch: 0004 cost= 0.041863447\n",
      "Epoch: 0005 cost= 0.029057615\n",
      "Epoch: 0006 cost= 0.020698789\n",
      "Epoch: 0007 cost= 0.015488698\n",
      "Epoch: 0008 cost= 0.011984326\n",
      "Epoch: 0009 cost= 0.008722027\n",
      "Epoch: 0010 cost= 0.006956365\n",
      "Epoch: 0011 cost= 0.006103068\n",
      "Epoch: 0012 cost= 0.004242062\n",
      "Epoch: 0013 cost= 0.004166286\n",
      "Epoch: 0014 cost= 0.004127756\n",
      "Epoch: 0015 cost= 0.003108635\n",
      "Optimization finished.\n",
      "Accuracy: 0.9785\n"
     ]
    }
   ],
   "source": [
    "W1 = tf.get_variable(\"W1\", shape=[n_input, 256], initializer=xavier_init(n_input, 256)) \n",
    "W2 = tf.get_variable(\"W2\", shape=[256, 256], initializer=xavier_init(256, 256)) \n",
    "W3 = tf.get_variable(\"W3\", shape=[256, n_classes], initializer=xavier_init(256, n_classes)) \n",
    "\n",
    "b1 = tf.Variable(tf.random_normal([256]))\n",
    "b2 = tf.Variable(tf.random_normal([256]))\n",
    "b3 = tf.Variable(tf.random_normal([n_classes]))\n",
    "\n",
    "L1 = tf.nn.relu( tf.add(tf.matmul(X, W1), b1) )\n",
    "L2 = tf.nn.relu( tf.add(tf.matmul(L1,W2), b2) )\n",
    "hypothesis = tf.add( tf.matmul(L2, W3), b3 )\n",
    "\n",
    "# softmax_cross_entropy_with_logits\n",
    "cost = tf.reduce_mean( tf.nn.softmax_cross_entropy_with_logits(hypothesis, Y) )\n",
    "\n",
    "# Adam optimizer\n",
    "optimizer = tf.train.AdamOptimizer(learning_rate=learning_rate).minimize(cost) \n",
    "\n",
    "init = tf.global_variables_initializer()\n",
    "\n",
    "print \"Training starts\"\n",
    "\n",
    "with tf.Session() as sess:\n",
    "    sess.run(init)\n",
    "    \n",
    "    for epoch in range(training_epochs):\n",
    "        avg_cost = 0.0\n",
    "        total_batch = int(mnist.train.num_examples/batch_size)\n",
    "        \n",
    "        for i in range(total_batch):\n",
    "            batch_xs, batch_ys = mnist.train.next_batch(batch_size)\n",
    "            sess.run(optimizer, feed_dict={X: batch_xs, Y: batch_ys} )\n",
    "            avg_cost += sess.run( cost, feed_dict={X:batch_xs, Y:batch_ys} ) / total_batch\n",
    "            \n",
    "        if epoch % display_step == 0:\n",
    "            print \"Epoch:\", '%04d'%(epoch+1), \"cost=\",\"{:.9f}\".format(avg_cost)\n",
    "    \n",
    "    print \"Optimization finished.\"\n",
    "    \n",
    "    # Test model\n",
    "    correct_prediction = tf.equal( tf.argmax(hypothesis, 1), tf.argmax(Y, 1) )\n",
    "    \n",
    "    # Calculate accuracy\n",
    "    accuracy = tf.reduce_mean( tf.cast(correct_prediction,\"float\") )\n",
    "    print \"Accuracy:\", accuracy.eval( {X: mnist.test.images, Y: mnist.test.labels} )"
   ]
  },
  {
   "cell_type": "markdown",
   "metadata": {},
   "source": [
    "## neural network with relu, xavier initializer and dropout with MNIST"
   ]
  },
  {
   "cell_type": "code",
   "execution_count": 9,
   "metadata": {
    "collapsed": false
   },
   "outputs": [
    {
     "name": "stdout",
     "output_type": "stream",
     "text": [
      "Training starts\n",
      "Epoch: 0001 cost= 0.332085077\n",
      "Epoch: 0002 cost= 0.122274912\n",
      "Epoch: 0003 cost= 0.084446704\n",
      "Epoch: 0004 cost= 0.063642124\n",
      "Epoch: 0005 cost= 0.049384801\n",
      "Epoch: 0006 cost= 0.040338699\n",
      "Epoch: 0007 cost= 0.033810767\n",
      "Epoch: 0008 cost= 0.027732727\n",
      "Epoch: 0009 cost= 0.024717540\n",
      "Epoch: 0010 cost= 0.021094276\n",
      "Epoch: 0011 cost= 0.018501582\n",
      "Epoch: 0012 cost= 0.016414222\n",
      "Epoch: 0013 cost= 0.014675020\n",
      "Epoch: 0014 cost= 0.013009646\n",
      "Epoch: 0015 cost= 0.011495564\n",
      "Optimization finished.\n",
      "Accuracy: 0.9804\n"
     ]
    }
   ],
   "source": [
    "\n",
    "# dropout\n",
    "dropout_rate = tf.placeholder(\"float\")\n",
    "_L1 = tf.nn.relu( tf.add(tf.matmul(X, W1), b1) )\n",
    "L1 = tf.nn.dropout(_L1, dropout_rate)\n",
    "_L2 = tf.nn.relu( tf.add(tf.matmul(L1,W2),b2) )\n",
    "L2 = tf.nn.dropout(_L2, dropout_rate)\n",
    "hypothesis = tf.add( tf.matmul(L2, W3), b3 )\n",
    "\n",
    "\n",
    "# softmax_cross_entropy_with_logits\n",
    "cost = tf.reduce_mean( tf.nn.softmax_cross_entropy_with_logits(hypothesis, Y) )\n",
    "\n",
    "# Adam optimizer\n",
    "optimizer = tf.train.AdamOptimizer(learning_rate=learning_rate).minimize(cost) \n",
    "\n",
    "init = tf.global_variables_initializer()\n",
    "\n",
    "print \"Training starts\"\n",
    "\n",
    "with tf.Session() as sess:\n",
    "    sess.run(init)\n",
    "    \n",
    "    for epoch in range(training_epochs):\n",
    "        avg_cost = 0.0\n",
    "        total_batch = int(mnist.train.num_examples/batch_size)\n",
    "        \n",
    "        for i in range(total_batch):\n",
    "            batch_xs, batch_ys = mnist.train.next_batch(batch_size)\n",
    "            sess.run(optimizer, feed_dict={X: batch_xs, Y: batch_ys, dropout_rate: 0.7} )\n",
    "            avg_cost += sess.run(cost, feed_dict={X: batch_xs, Y: batch_ys, dropout_rate: 1.0}) / total_batch\n",
    "            \n",
    "        if epoch % display_step == 0:\n",
    "            print \"Epoch:\", '%04d' % (epoch + 1), \"cost=\",\"{:.9f}\".format(avg_cost)\n",
    "    \n",
    "    print \"Optimization finished.\"\n",
    "    \n",
    "    # Test model\n",
    "    correct_prediction = tf.equal( tf.argmax(hypothesis, 1), tf.argmax(Y, 1) )\n",
    "    \n",
    "    # Calculate accuracy\n",
    "    accuracy = tf.reduce_mean( tf.cast(correct_prediction,\"float\") )\n",
    "    print \"Accuracy:\", accuracy.eval({X: mnist.test.images, Y: mnist.test.labels, dropout_rate:1.0})"
   ]
  },
  {
   "cell_type": "code",
   "execution_count": null,
   "metadata": {
    "collapsed": true
   },
   "outputs": [],
   "source": []
  }
 ],
 "metadata": {
  "kernelspec": {
   "display_name": "Python 2",
   "language": "python",
   "name": "python2"
  },
  "language_info": {
   "codemirror_mode": {
    "name": "ipython",
    "version": 2
   },
   "file_extension": ".py",
   "mimetype": "text/x-python",
   "name": "python",
   "nbconvert_exporter": "python",
   "pygments_lexer": "ipython2",
   "version": "2.7.12"
  }
 },
 "nbformat": 4,
 "nbformat_minor": 2
}
