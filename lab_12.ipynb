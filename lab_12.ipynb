{
 "cells": [
  {
   "cell_type": "markdown",
   "metadata": {},
   "source": [
    "# recurrent neural network"
   ]
  },
  {
   "cell_type": "code",
   "execution_count": 1,
   "metadata": {
    "collapsed": false
   },
   "outputs": [],
   "source": [
    "import tensorflow as tf\n",
    "import numpy as np\n",
    "\n",
    "# id -> char\n",
    "char_rdic = ['h', 'e', 'l', 'o']\n",
    "\n",
    "# char -> id\n",
    "char_dic = {w : i for i, w in enumerate(char_rdic)}\n",
    "\n",
    "ground_truth = [char_dic[c] for c in 'hello']\n",
    "x_data = tf.one_hot(ground_truth[:-1], len(char_dic), 1.0, 0.0, -1)\n",
    "\n",
    "# Configuration\n",
    "rnn_size = len(char_dic) # 4\n",
    "batch_size = 1\n",
    "output_size = 4\n",
    "\n",
    "rnn_cell = tf.nn.rnn_cell.BasicRNNCell(num_units=rnn_size, input_size=None)\n",
    "initial_state = rnn_cell.zero_state(batch_size, tf.float32)\n",
    "initial_state_1 = tf.zeros([batch_size, rnn_cell.state_size])\n",
    "X_split = tf.split(0, len(char_dic), x_data)\n",
    "\n",
    "\n",
    "outputs, state = tf.nn.rnn(rnn_cell, X_split, initial_state=initial_state)"
   ]
  },
  {
   "cell_type": "code",
   "execution_count": 2,
   "metadata": {
    "collapsed": true
   },
   "outputs": [],
   "source": [
    "# shape = 1 x 16, shape = 4 x 4\n",
    "logits = tf.reshape(tf.concat(1, outputs), [-1, rnn_size])        \n",
    "logits.get_shape()\n",
    "\n",
    "# a shape of [-1] flattens into 1-D\n",
    "targets = tf.reshape(ground_truth[1:], [-1])\n",
    "targets.get_shape()\n",
    "\n",
    "\n",
    "weights = tf.ones([len(char_dic) * batch_size])\n",
    "loss = tf.nn.seq2seq.sequence_loss_by_example([logits], [targets], [weights])\n",
    "cost = tf.reduce_sum(loss) / batch_size\n",
    "train_op = tf.train.RMSPropOptimizer(0.01, 0.9).minimize(cost)"
   ]
  },
  {
   "cell_type": "code",
   "execution_count": 3,
   "metadata": {
    "collapsed": false
   },
   "outputs": [
    {
     "name": "stdout",
     "output_type": "stream",
     "text": [
      "(array([1, 3, 0, 3]), ['e', 'o', 'h', 'o'])\n",
      "(array([1, 3, 0, 3]), ['e', 'o', 'h', 'o'])\n",
      "(array([1, 3, 0, 3]), ['e', 'o', 'h', 'o'])\n",
      "(array([1, 3, 0, 3]), ['e', 'o', 'h', 'o'])\n",
      "(array([1, 3, 0, 3]), ['e', 'o', 'h', 'o'])\n",
      "(array([1, 3, 0, 3]), ['e', 'o', 'h', 'o'])\n",
      "(array([1, 3, 0, 3]), ['e', 'o', 'h', 'o'])\n",
      "(array([1, 1, 3, 3]), ['e', 'e', 'o', 'o'])\n",
      "(array([1, 1, 3, 3]), ['e', 'e', 'o', 'o'])\n",
      "(array([1, 1, 3, 3]), ['e', 'e', 'o', 'o'])\n",
      "(array([1, 1, 3, 3]), ['e', 'e', 'o', 'o'])\n",
      "(array([1, 1, 3, 3]), ['e', 'e', 'o', 'o'])\n",
      "(array([1, 1, 2, 3]), ['e', 'e', 'l', 'o'])\n",
      "(array([1, 1, 2, 3]), ['e', 'e', 'l', 'o'])\n",
      "(array([1, 1, 2, 3]), ['e', 'e', 'l', 'o'])\n",
      "(array([1, 2, 2, 3]), ['e', 'l', 'l', 'o'])\n",
      "(array([1, 2, 2, 3]), ['e', 'l', 'l', 'o'])\n",
      "(array([1, 2, 2, 3]), ['e', 'l', 'l', 'o'])\n",
      "(array([1, 2, 2, 3]), ['e', 'l', 'l', 'o'])\n",
      "(array([1, 2, 2, 3]), ['e', 'l', 'l', 'o'])\n",
      "(array([1, 2, 2, 3]), ['e', 'l', 'l', 'o'])\n",
      "(array([1, 2, 2, 3]), ['e', 'l', 'l', 'o'])\n",
      "(array([1, 2, 2, 3]), ['e', 'l', 'l', 'o'])\n",
      "(array([1, 2, 2, 3]), ['e', 'l', 'l', 'o'])\n",
      "(array([1, 2, 2, 3]), ['e', 'l', 'l', 'o'])\n",
      "(array([1, 2, 2, 3]), ['e', 'l', 'l', 'o'])\n",
      "(array([1, 2, 2, 3]), ['e', 'l', 'l', 'o'])\n",
      "(array([1, 2, 2, 3]), ['e', 'l', 'l', 'o'])\n",
      "(array([1, 2, 2, 3]), ['e', 'l', 'l', 'o'])\n",
      "(array([1, 2, 2, 3]), ['e', 'l', 'l', 'o'])\n",
      "(array([1, 2, 2, 3]), ['e', 'l', 'l', 'o'])\n",
      "(array([1, 2, 2, 3]), ['e', 'l', 'l', 'o'])\n",
      "(array([1, 2, 2, 3]), ['e', 'l', 'l', 'o'])\n",
      "(array([1, 2, 2, 3]), ['e', 'l', 'l', 'o'])\n",
      "(array([1, 2, 2, 3]), ['e', 'l', 'l', 'o'])\n",
      "(array([1, 2, 2, 3]), ['e', 'l', 'l', 'o'])\n",
      "(array([1, 2, 2, 3]), ['e', 'l', 'l', 'o'])\n",
      "(array([1, 2, 2, 3]), ['e', 'l', 'l', 'o'])\n",
      "(array([1, 2, 2, 3]), ['e', 'l', 'l', 'o'])\n",
      "(array([1, 2, 2, 3]), ['e', 'l', 'l', 'o'])\n",
      "(array([1, 2, 2, 3]), ['e', 'l', 'l', 'o'])\n",
      "(array([1, 2, 2, 3]), ['e', 'l', 'l', 'o'])\n",
      "(array([1, 2, 2, 3]), ['e', 'l', 'l', 'o'])\n",
      "(array([1, 2, 2, 3]), ['e', 'l', 'l', 'o'])\n",
      "(array([1, 2, 2, 3]), ['e', 'l', 'l', 'o'])\n",
      "(array([1, 2, 2, 3]), ['e', 'l', 'l', 'o'])\n",
      "(array([1, 2, 2, 3]), ['e', 'l', 'l', 'o'])\n",
      "(array([1, 2, 2, 3]), ['e', 'l', 'l', 'o'])\n",
      "(array([1, 2, 2, 3]), ['e', 'l', 'l', 'o'])\n",
      "(array([1, 2, 2, 3]), ['e', 'l', 'l', 'o'])\n",
      "(array([1, 2, 2, 3]), ['e', 'l', 'l', 'o'])\n",
      "(array([1, 2, 2, 3]), ['e', 'l', 'l', 'o'])\n",
      "(array([1, 2, 2, 3]), ['e', 'l', 'l', 'o'])\n",
      "(array([1, 2, 2, 3]), ['e', 'l', 'l', 'o'])\n",
      "(array([1, 2, 2, 3]), ['e', 'l', 'l', 'o'])\n",
      "(array([1, 2, 2, 3]), ['e', 'l', 'l', 'o'])\n",
      "(array([1, 2, 2, 3]), ['e', 'l', 'l', 'o'])\n",
      "(array([1, 2, 2, 3]), ['e', 'l', 'l', 'o'])\n",
      "(array([1, 2, 2, 3]), ['e', 'l', 'l', 'o'])\n",
      "(array([1, 2, 2, 3]), ['e', 'l', 'l', 'o'])\n",
      "(array([1, 2, 2, 3]), ['e', 'l', 'l', 'o'])\n",
      "(array([1, 2, 2, 3]), ['e', 'l', 'l', 'o'])\n",
      "(array([1, 2, 2, 3]), ['e', 'l', 'l', 'o'])\n",
      "(array([1, 2, 2, 3]), ['e', 'l', 'l', 'o'])\n",
      "(array([1, 2, 2, 3]), ['e', 'l', 'l', 'o'])\n",
      "(array([1, 2, 2, 3]), ['e', 'l', 'l', 'o'])\n",
      "(array([1, 2, 2, 3]), ['e', 'l', 'l', 'o'])\n",
      "(array([1, 2, 2, 3]), ['e', 'l', 'l', 'o'])\n",
      "(array([1, 2, 2, 3]), ['e', 'l', 'l', 'o'])\n",
      "(array([1, 2, 2, 3]), ['e', 'l', 'l', 'o'])\n",
      "(array([1, 2, 2, 3]), ['e', 'l', 'l', 'o'])\n",
      "(array([1, 2, 2, 3]), ['e', 'l', 'l', 'o'])\n",
      "(array([1, 2, 2, 3]), ['e', 'l', 'l', 'o'])\n",
      "(array([1, 2, 2, 3]), ['e', 'l', 'l', 'o'])\n",
      "(array([1, 2, 2, 3]), ['e', 'l', 'l', 'o'])\n",
      "(array([1, 2, 2, 3]), ['e', 'l', 'l', 'o'])\n",
      "(array([1, 2, 2, 3]), ['e', 'l', 'l', 'o'])\n",
      "(array([1, 2, 2, 3]), ['e', 'l', 'l', 'o'])\n",
      "(array([1, 2, 2, 3]), ['e', 'l', 'l', 'o'])\n",
      "(array([1, 2, 2, 3]), ['e', 'l', 'l', 'o'])\n",
      "(array([1, 2, 2, 3]), ['e', 'l', 'l', 'o'])\n",
      "(array([1, 2, 2, 3]), ['e', 'l', 'l', 'o'])\n",
      "(array([1, 2, 2, 3]), ['e', 'l', 'l', 'o'])\n",
      "(array([1, 2, 2, 3]), ['e', 'l', 'l', 'o'])\n",
      "(array([1, 2, 2, 3]), ['e', 'l', 'l', 'o'])\n",
      "(array([1, 2, 2, 3]), ['e', 'l', 'l', 'o'])\n",
      "(array([1, 2, 2, 3]), ['e', 'l', 'l', 'o'])\n",
      "(array([1, 2, 2, 3]), ['e', 'l', 'l', 'o'])\n",
      "(array([1, 2, 2, 3]), ['e', 'l', 'l', 'o'])\n",
      "(array([1, 2, 2, 3]), ['e', 'l', 'l', 'o'])\n",
      "(array([1, 2, 2, 3]), ['e', 'l', 'l', 'o'])\n",
      "(array([1, 2, 2, 3]), ['e', 'l', 'l', 'o'])\n",
      "(array([1, 2, 2, 3]), ['e', 'l', 'l', 'o'])\n",
      "(array([1, 2, 2, 3]), ['e', 'l', 'l', 'o'])\n",
      "(array([1, 2, 2, 3]), ['e', 'l', 'l', 'o'])\n",
      "(array([1, 2, 2, 3]), ['e', 'l', 'l', 'o'])\n",
      "(array([1, 2, 2, 3]), ['e', 'l', 'l', 'o'])\n",
      "(array([1, 2, 2, 3]), ['e', 'l', 'l', 'o'])\n",
      "(array([1, 2, 2, 3]), ['e', 'l', 'l', 'o'])\n",
      "(array([1, 2, 2, 3]), ['e', 'l', 'l', 'o'])\n"
     ]
    }
   ],
   "source": [
    "with tf.Session() as sess:\n",
    "    tf.global_variables_initializer().run()\n",
    "    \n",
    "    for i in range(100):\n",
    "        sess.run(train_op)\n",
    "        result = sess.run(tf.argmax(logits, 1))\n",
    "        print(result, [char_rdic[t] for t in result])"
   ]
  },
  {
   "cell_type": "code",
   "execution_count": null,
   "metadata": {
    "collapsed": true
   },
   "outputs": [],
   "source": []
  }
 ],
 "metadata": {
  "kernelspec": {
   "display_name": "Python 2",
   "language": "python",
   "name": "python2"
  },
  "language_info": {
   "codemirror_mode": {
    "name": "ipython",
    "version": 2
   },
   "file_extension": ".py",
   "mimetype": "text/x-python",
   "name": "python",
   "nbconvert_exporter": "python",
   "pygments_lexer": "ipython2",
   "version": "2.7.12"
  }
 },
 "nbformat": 4,
 "nbformat_minor": 2
}
